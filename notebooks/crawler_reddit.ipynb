{
 "cells": [
  {
   "cell_type": "code",
   "execution_count": null,
   "id": "7783d9b7",
   "metadata": {},
   "outputs": [],
   "source": [
    "import time\n",
    "import requests"
   ]
  },
  {
   "cell_type": "code",
   "execution_count": null,
   "id": "80810ce9",
   "metadata": {},
   "outputs": [],
   "source": [
    "class GetData:\n",
    "    def __init__(self):\n",
    "        pass\n",
    "\n",
    "    def from_reddit(self, url: str, qtd_chamadas: int=5) -> list[dict]:\n",
    "        json_result_list = []\n",
    "        tentativa = qtd_chamadas\n",
    "        aux = 0\n",
    "\n",
    "        # Primeira requisição\n",
    "        response = requests.get(url)\n",
    "        json_object = response.json()\n",
    "\n",
    "        next_page = json_object['data']['after']\n",
    "        data_exists = json_object['data']\n",
    "\n",
    "        for item in json_object['data']['children']:\n",
    "            aux = aux+1\n",
    "        for page in range(aux):\n",
    "            json_result_list.append(json_object['data']['children'][page]['data']['selftext'])\n",
    "\n",
    "        # Loop para paginação\n",
    "        while data_exists:\n",
    "            if tentativa > 0:\n",
    "                time.sleep(5)\n",
    "                print(\"Next page:\", next_page)\n",
    "                response = requests.get(url, params={'after': next_page})\n",
    "                json_object = response.json()\n",
    "\n",
    "                # Pega a chave selftext de cada post, por página\n",
    "                aux = 0\n",
    "                for item in json_object['data']['children']:\n",
    "                    aux = aux+1\n",
    "                for page in range(aux):\n",
    "                    json_result_list.append(json_object['data']['children'][page]['data']['selftext'])\n",
    "\n",
    "                next_page = json_object['data'].get('after')\n",
    "                data_exists = json_object['data']\n",
    "                tentativa = tentativa - 1\n",
    "            else: break\n",
    "        return json_result_list\n",
    "          \n",
    "    def from_website(self, url: list[str]) -> list[dict]:\n",
    "        pass\n"
   ]
  }
 ],
 "metadata": {
  "kernelspec": {
   "display_name": "Python 3",
   "language": "python",
   "name": "python3"
  },
  "language_info": {
   "codemirror_mode": {
    "name": "ipython",
    "version": 3
   },
   "file_extension": ".py",
   "mimetype": "text/x-python",
   "name": "python",
   "nbconvert_exporter": "python",
   "pygments_lexer": "ipython3",
   "version": "3.13.2"
  }
 },
 "nbformat": 4,
 "nbformat_minor": 5
}
