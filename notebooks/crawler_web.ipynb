{
 "cells": [
  {
   "cell_type": "code",
   "execution_count": 2,
   "id": "b9b91d84",
   "metadata": {},
   "outputs": [],
   "source": [
    "from selenium import webdriver\n",
    "from selenium.webdriver.chrome.options import Options\n",
    "from selenium.webdriver.common.by import By\n",
    "from selenium.webdriver.support.ui import WebDriverWait\n",
    "from selenium.webdriver.support import expected_conditions as EC\n",
    "import time\n",
    "import pandas as pd\n",
    "\n"
   ]
  },
  {
   "cell_type": "code",
   "execution_count": null,
   "id": "1fb2271a",
   "metadata": {},
   "outputs": [],
   "source": [
    "\n",
    "references_links = pd.read_csv(r'../src/data/raw/references/references_links.csv',\n",
    "                               sep=';')\n",
    "extracted_text = []"
   ]
  },
  {
   "cell_type": "code",
   "execution_count": null,
   "id": "1c70fb71",
   "metadata": {},
   "outputs": [],
   "source": [
    "\n",
    "# Instância UOL Noticias\n",
    "driver = webdriver.Chrome()\n",
    "driver.get('https://noticias.uol.com.br/ultimas-noticias/agencia-brasil/2024/01/20/golpes-bancarios-se-espalham-e-destroem-vida-financeira-de-vitimas.htm')\n",
    "\n",
    "time.sleep(4)\n",
    "\n",
    "try:\n",
    "    text_element = WebDriverWait(driver, 3).until(\n",
    "    EC.presence_of_element_located((By.XPATH, '/html/body/div[1]/main/article')))\n",
    "    extracted_text.append(text_element.text)\n",
    "\n",
    "except Exception as e:\n",
    "    print(\"Erro ao carregar comentários:\", e)\n",
    "\n",
    "finally:\n",
    "    driver.quit()\n"
   ]
  },
  {
   "cell_type": "code",
   "execution_count": 21,
   "id": "fec0652e",
   "metadata": {},
   "outputs": [
    {
     "data": {
      "text/plain": [
       "[<selenium.webdriver.remote.webelement.WebElement (session=\"8767ec482a0d5e70b8a7a9b3add4b397\", element=\"f.95B9E24C35FD5114A70D2570318216A3.d.90EF038FE39A641E5A8F6656DF4928EB.e.23\")>,\n",
       " 'As fraudes bancárias digitais e golpes por cartões alcançaram a marca inédita de R$ 10,1 bilhões no Brasil em 2024, segundo dados divulgados nesta terça-feira, 11, pela Federação Brasileira das Associações de Bancos (Febraban). O avanço do crime organizado sobre o sistema financeiro digital está no radar da Polícia Federal. O diretor-geral da corporação, Andrei Passos Rodrigues, trata o fenômeno como \"cangaço digital\" e avalia que a migração das organizações criminosas para o ambiente virtual é uma realidade irreversível.',\n",
       " 'As fraudes bancárias digitais e golpes por cartões alcançaram a marca inédita de R$ 10,1 bilhões no Brasil em 2024, segundo dados divulgados nesta terça-feira, 11, pela Federação Brasileira das Associações de Bancos (Febraban). O avanço do crime organizado sobre o sistema financeiro digital está no radar da Polícia Federal. O diretor-geral da corporação, Andrei Passos Rodrigues, trata o fenômeno como \"cangaço digital\" e avalia que a migração das organizações criminosas para o ambiente virtual é uma realidade irreversível.',\n",
       " 'Era tarde de quarta-feira, por volta das 13h30, em meados de outubro de 2023, em Brasília, quando a professora aposentada Maria Zélia*, de 76 anos, recebeu uma ligação de um número de telefone usado pelo banco onde movimentava seu dinheiro há 20 anos. Do outro lado da linha, alguém que se identificava como gerente bancário. Segundo esse interlocutor, havia suspeita de fraudes na sua conta.']"
      ]
     },
     "execution_count": 21,
     "metadata": {},
     "output_type": "execute_result"
    }
   ],
   "source": [
    "extracted_text"
   ]
  }
 ],
 "metadata": {
  "kernelspec": {
   "display_name": "Python 3",
   "language": "python",
   "name": "python3"
  },
  "language_info": {
   "codemirror_mode": {
    "name": "ipython",
    "version": 3
   },
   "file_extension": ".py",
   "mimetype": "text/x-python",
   "name": "python",
   "nbconvert_exporter": "python",
   "pygments_lexer": "ipython3",
   "version": "3.13.2"
  }
 },
 "nbformat": 4,
 "nbformat_minor": 5
}
