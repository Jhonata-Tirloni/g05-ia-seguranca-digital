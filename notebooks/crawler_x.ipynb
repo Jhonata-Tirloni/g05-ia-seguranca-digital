{
 "cells": [
  {
   "cell_type": "code",
   "execution_count": null,
   "id": "b6a91bc0",
   "metadata": {},
   "outputs": [
    {
     "name": "stdout",
     "output_type": "stream",
     "text": [
      "Paulo Cupertino, assassino do ator Rafael Miguel e dos pais do jovem, afirmou que dorme bem e não vê necessidade de pedir desculpas às famílias das vítimas.\n",
      "\n",
      "Ele foi condenado a 98 anos de prisão pelo crime.\n"
     ]
    }
   ],
   "source": [
    "from selenium import webdriver\n",
    "from selenium.webdriver.chrome.options import Options\n",
    "from selenium.webdriver.common.by import By\n",
    "from selenium.webdriver.support.ui import WebDriverWait\n",
    "from selenium.webdriver.support import expected_conditions as EC\n",
    "\n",
    "#X via selenium\n",
    "options = Options()\n",
    "options.add_argument(\"--headless\")\n",
    "driver = webdriver.Chrome(options=options)\n",
    "\n",
    "url = 'https://x.com/CrimesReais/status/1928803538722787525'\n",
    "driver.get(url)\n",
    "\n",
    "try:\n",
    "    tweet_element = WebDriverWait(driver, 8).until(\n",
    "        EC.presence_of_element_located((By.XPATH, '/html/body/div[1]/div/div/div[2]/main/div/div/div/div/div/section/div/div/div[1]/div/div/article/div/div/div[3]/div[1]/div/div/span'))\n",
    "    )\n",
    "\n",
    "    print(tweet_element.text)\n",
    "\n",
    "except Exception as e:\n",
    "    print(\"Tweet não encontrado ou erro ao carregar:\", e)\n",
    "\n",
    "finally:\n",
    "    driver.quit()\n"
   ]
  }
 ],
 "metadata": {
  "kernelspec": {
   "display_name": "Python 3",
   "language": "python",
   "name": "python3"
  },
  "language_info": {
   "codemirror_mode": {
    "name": "ipython",
    "version": 3
   },
   "file_extension": ".py",
   "mimetype": "text/x-python",
   "name": "python",
   "nbconvert_exporter": "python",
   "pygments_lexer": "ipython3",
   "version": "3.13.2"
  }
 },
 "nbformat": 4,
 "nbformat_minor": 5
}
