{
 "cells": [
  {
   "cell_type": "code",
   "execution_count": 26,
   "id": "423cbc1a",
   "metadata": {},
   "outputs": [],
   "source": [
    "import pandas as pd"
   ]
  },
  {
   "cell_type": "code",
   "execution_count": 3,
   "id": "4f25677a",
   "metadata": {},
   "outputs": [],
   "source": [
    "df_original = pd.read_csv(r'/Users/jhonatatirloni/Desktop/g05-ia-seguranca-digital/src/data/processed/df_list_data_news.csv', sep='|')"
   ]
  },
  {
   "cell_type": "code",
   "execution_count": 6,
   "id": "5dcbf064",
   "metadata": {},
   "outputs": [],
   "source": [
    "df_categorizado = pd.read_csv(r'/Users/jhonatatirloni/Desktop/g05-ia-seguranca-digital/src/data/processed/news_crimes_categorized.csv', sep=';')"
   ]
  },
  {
   "cell_type": "code",
   "execution_count": 11,
   "id": "cf019c01",
   "metadata": {},
   "outputs": [],
   "source": [
    "df_categorizado['Index'] = df_categorizado['Index']+1"
   ]
  },
  {
   "cell_type": "code",
   "execution_count": 22,
   "id": "eef905f3",
   "metadata": {},
   "outputs": [],
   "source": [
    "df_categorizado = df_categorizado.loc[df_categorizado['flg_crime'].str.contains('S') & ~df_categorizado['cat_crime'].str.contains('Outro')]"
   ]
  },
  {
   "cell_type": "code",
   "execution_count": 23,
   "id": "052af5da",
   "metadata": {},
   "outputs": [],
   "source": [
    "df_concat = pd.merge(left=df_original,\n",
    "                     right=df_categorizado,\n",
    "                     left_on='index',\n",
    "                     right_on='Index',\n",
    "                     how='inner',\n",
    "                     suffixes=[\"_original\", \"_categorized\"])"
   ]
  },
  {
   "cell_type": "code",
   "execution_count": 25,
   "id": "c4f882ba",
   "metadata": {},
   "outputs": [],
   "source": [
    "df_concat.to_csv('/Users/jhonatatirloni/Desktop/g05-ia-seguranca-digital/src/data/processed/df_text_news_categorized.csv',\n",
    "                 sep='|')"
   ]
  },
  {
   "cell_type": "markdown",
   "id": "e710a5c8",
   "metadata": {},
   "source": [
    "# Reddit"
   ]
  },
  {
   "cell_type": "code",
   "execution_count": 62,
   "id": "9916d4d6",
   "metadata": {},
   "outputs": [],
   "source": [
    "df_orginal_reddit = pd.read_csv(r'/Users/jhonatatirloni/Desktop/g05-ia-seguranca-digital/src/data/processed/bronze/df_list_data_reddit_tratado.csv', sep='|')"
   ]
  },
  {
   "cell_type": "code",
   "execution_count": 63,
   "id": "cf3e0502",
   "metadata": {},
   "outputs": [],
   "source": [
    "df_categorizado_reddit = pd.read_csv(r'/Users/jhonatatirloni/Desktop/g05-ia-seguranca-digital/src/data/processed/silver/reddit_crimes_categorized.csv', sep=';')"
   ]
  },
  {
   "cell_type": "code",
   "execution_count": 64,
   "id": "a0903e7a",
   "metadata": {},
   "outputs": [
    {
     "data": {
      "text/html": [
       "<div>\n",
       "<style scoped>\n",
       "    .dataframe tbody tr th:only-of-type {\n",
       "        vertical-align: middle;\n",
       "    }\n",
       "\n",
       "    .dataframe tbody tr th {\n",
       "        vertical-align: top;\n",
       "    }\n",
       "\n",
       "    .dataframe thead th {\n",
       "        text-align: right;\n",
       "    }\n",
       "</style>\n",
       "<table border=\"1\" class=\"dataframe\">\n",
       "  <thead>\n",
       "    <tr style=\"text-align: right;\">\n",
       "      <th></th>\n",
       "      <th>index</th>\n",
       "      <th>text</th>\n",
       "      <th>flg_crime</th>\n",
       "      <th>cat_crime</th>\n",
       "    </tr>\n",
       "  </thead>\n",
       "  <tbody>\n",
       "    <tr>\n",
       "      <th>0</th>\n",
       "      <td>0</td>\n",
       "      <td>O sub sempre teve como ideia ajudar e espalhar...</td>\n",
       "      <td>N</td>\n",
       "      <td>NaN</td>\n",
       "    </tr>\n",
       "    <tr>\n",
       "      <th>1</th>\n",
       "      <td>1</td>\n",
       "      <td>Postei uma progressão salarial e ja veio conta...</td>\n",
       "      <td>S</td>\n",
       "      <td>Golpe bancário</td>\n",
       "    </tr>\n",
       "    <tr>\n",
       "      <th>2</th>\n",
       "      <td>3</td>\n",
       "      <td>mandei mensagem em uma pizzaria (whatsapp no s...</td>\n",
       "      <td>S</td>\n",
       "      <td>Golpe bancário</td>\n",
       "    </tr>\n",
       "    <tr>\n",
       "      <th>3</th>\n",
       "      <td>7</td>\n",
       "      <td>NaN</td>\n",
       "      <td>N</td>\n",
       "      <td>NaN</td>\n",
       "    </tr>\n",
       "    <tr>\n",
       "      <th>4</th>\n",
       "      <td>18</td>\n",
       "      <td>Então, recentemente eu fui contratar um serviç...</td>\n",
       "      <td>S</td>\n",
       "      <td>Outros</td>\n",
       "    </tr>\n",
       "    <tr>\n",
       "      <th>...</th>\n",
       "      <td>...</td>\n",
       "      <td>...</td>\n",
       "      <td>...</td>\n",
       "      <td>...</td>\n",
       "    </tr>\n",
       "    <tr>\n",
       "      <th>201</th>\n",
       "      <td>459</td>\n",
       "      <td>Alguém conhece isso?????</td>\n",
       "      <td>N</td>\n",
       "      <td>NaN</td>\n",
       "    </tr>\n",
       "    <tr>\n",
       "      <th>202</th>\n",
       "      <td>463</td>\n",
       "      <td>supostamente a empresa de energia da minha cid...</td>\n",
       "      <td>S</td>\n",
       "      <td>Golpe bancário</td>\n",
       "    </tr>\n",
       "    <tr>\n",
       "      <th>203</th>\n",
       "      <td>464</td>\n",
       "      <td>Galera, minha namorada se inscreveu e pagou es...</td>\n",
       "      <td>N</td>\n",
       "      <td>NaN</td>\n",
       "    </tr>\n",
       "    <tr>\n",
       "      <th>204</th>\n",
       "      <td>465</td>\n",
       "      <td>Oiê gente ent, na noite de ontem fiquei sabend...</td>\n",
       "      <td>N</td>\n",
       "      <td>-</td>\n",
       "    </tr>\n",
       "    <tr>\n",
       "      <th>205</th>\n",
       "      <td>466</td>\n",
       "      <td>Gente. Sou novo na comunidade e queria pergunt...</td>\n",
       "      <td>N</td>\n",
       "      <td>NaN</td>\n",
       "    </tr>\n",
       "  </tbody>\n",
       "</table>\n",
       "<p>206 rows × 4 columns</p>\n",
       "</div>"
      ],
      "text/plain": [
       "     index                                               text flg_crime  \\\n",
       "0        0  O sub sempre teve como ideia ajudar e espalhar...         N   \n",
       "1        1  Postei uma progressão salarial e ja veio conta...         S   \n",
       "2        3  mandei mensagem em uma pizzaria (whatsapp no s...         S   \n",
       "3        7                                                NaN         N   \n",
       "4       18  Então, recentemente eu fui contratar um serviç...         S   \n",
       "..     ...                                                ...       ...   \n",
       "201    459                           Alguém conhece isso?????         N   \n",
       "202    463  supostamente a empresa de energia da minha cid...         S   \n",
       "203    464  Galera, minha namorada se inscreveu e pagou es...         N   \n",
       "204    465  Oiê gente ent, na noite de ontem fiquei sabend...         N   \n",
       "205    466  Gente. Sou novo na comunidade e queria pergunt...         N   \n",
       "\n",
       "          cat_crime  \n",
       "0               NaN  \n",
       "1    Golpe bancário  \n",
       "2    Golpe bancário  \n",
       "3               NaN  \n",
       "4            Outros  \n",
       "..              ...  \n",
       "201             NaN  \n",
       "202  Golpe bancário  \n",
       "203             NaN  \n",
       "204               -  \n",
       "205             NaN  \n",
       "\n",
       "[206 rows x 4 columns]"
      ]
     },
     "execution_count": 64,
     "metadata": {},
     "output_type": "execute_result"
    }
   ],
   "source": [
    "df_concat_reddit = pd.merge(left=df_orginal_reddit,\n",
    "                     right=df_categorizado_reddit,\n",
    "                     how='inner',\n",
    "                     left_on='index',\n",
    "                     right_on='index')\n",
    "df_concat_reddit"
   ]
  },
  {
   "cell_type": "code",
   "execution_count": 65,
   "id": "0431ba37",
   "metadata": {},
   "outputs": [],
   "source": [
    "df_concat_reddit = df_concat_reddit.loc[~df_concat_reddit['flg_crime'].isna() & df_concat_reddit['flg_crime'].str.contains('S')]"
   ]
  },
  {
   "cell_type": "code",
   "execution_count": 66,
   "id": "973672a2",
   "metadata": {},
   "outputs": [],
   "source": [
    "df_concat_reddit.to_csv('/Users/jhonatatirloni/Desktop/g05-ia-seguranca-digital/src/data/processed/gold/df_text_reddit_categorized.csv',\n",
    "                 sep='|')"
   ]
  },
  {
   "cell_type": "markdown",
   "id": "af35b94a",
   "metadata": {},
   "source": [
    "# Validação da quantidade dos dois dataframes"
   ]
  },
  {
   "cell_type": "code",
   "execution_count": 67,
   "id": "a43280df",
   "metadata": {},
   "outputs": [],
   "source": [
    "df_news = pd.read_csv(r'/Users/jhonatatirloni/Desktop/g05-ia-seguranca-digital/src/data/processed/gold/df_text_news_categorized.csv', sep='|')\n",
    "df_reddit = pd.read_csv(r'/Users/jhonatatirloni/Desktop/g05-ia-seguranca-digital/src/data/processed/gold/df_text_reddit_categorized.csv', sep='|')"
   ]
  },
  {
   "cell_type": "code",
   "execution_count": 68,
   "id": "5ba4bd23",
   "metadata": {},
   "outputs": [],
   "source": [
    "df_news = df_news.drop(['Unnamed: 0', 'Index'], axis=1)"
   ]
  },
  {
   "cell_type": "code",
   "execution_count": 69,
   "id": "a5594b2a",
   "metadata": {},
   "outputs": [],
   "source": [
    "df_reddit = df_reddit.drop(['Unnamed: 0'], axis=1)"
   ]
  },
  {
   "cell_type": "code",
   "execution_count": 70,
   "id": "4720e821",
   "metadata": {},
   "outputs": [],
   "source": [
    "df_final = pd.concat([df_news, df_reddit])"
   ]
  },
  {
   "cell_type": "code",
   "execution_count": 72,
   "id": "2f8541bf",
   "metadata": {},
   "outputs": [],
   "source": [
    "df_final = df_final.drop(['index'], axis=1)"
   ]
  },
  {
   "cell_type": "code",
   "execution_count": 73,
   "id": "2fbad29d",
   "metadata": {},
   "outputs": [],
   "source": [
    "df_final.to_csv(r'/Users/jhonatatirloni/Desktop/g05-ia-seguranca-digital/src/data/processed/gold/df_concat.csv', sep='|')"
   ]
  }
 ],
 "metadata": {
  "kernelspec": {
   "display_name": "Python 3",
   "language": "python",
   "name": "python3"
  },
  "language_info": {
   "codemirror_mode": {
    "name": "ipython",
    "version": 3
   },
   "file_extension": ".py",
   "mimetype": "text/x-python",
   "name": "python",
   "nbconvert_exporter": "python",
   "pygments_lexer": "ipython3",
   "version": "3.13.2"
  }
 },
 "nbformat": 4,
 "nbformat_minor": 5
}
