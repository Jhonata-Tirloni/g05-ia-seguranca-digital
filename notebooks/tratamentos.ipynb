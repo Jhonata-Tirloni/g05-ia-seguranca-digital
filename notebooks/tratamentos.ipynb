{
 "cells": [
  {
   "cell_type": "code",
   "execution_count": 3,
   "id": "feeabd87",
   "metadata": {},
   "outputs": [],
   "source": [
    "import pandas as pd"
   ]
  },
  {
   "cell_type": "code",
   "execution_count": null,
   "id": "e4f1138a",
   "metadata": {},
   "outputs": [],
   "source": [
    "df = pd.read_csv(r'/Users/jhonatatirloni/Desktop/g05-ia-seguranca-digital/src/data/processed/df_text_news.csv',\n",
    "            sep='|')\n",
    "df = df.drop_duplicates(['text'])\n",
    "df = df.drop('index', axis=1)\n",
    "df.to_csv(r'/Users/jhonatatirloni/Desktop/g05-ia-seguranca-digital/src/data/processed/df_list_data_news.csv',\n",
    "          sep='|')"
   ]
  },
  {
   "cell_type": "code",
   "execution_count": 4,
   "id": "e3749cd9",
   "metadata": {},
   "outputs": [],
   "source": [
    "df_reddit = pd.read_csv('/Users/jhonatatirloni/Desktop/g05-ia-seguranca-digital/src/data/processed/bronze/df_list_data_reddit.csv', sep=';')"
   ]
  },
  {
   "cell_type": "code",
   "execution_count": 9,
   "id": "0b51ae4d",
   "metadata": {},
   "outputs": [],
   "source": [
    "df_reddit = df_reddit.drop_duplicates(subset=['text'])"
   ]
  },
  {
   "cell_type": "code",
   "execution_count": 14,
   "id": "83b768a9",
   "metadata": {},
   "outputs": [],
   "source": [
    "df_reddit = df_reddit.drop(['index'], axis=1)"
   ]
  },
  {
   "cell_type": "code",
   "execution_count": 15,
   "id": "c9f8bbd5",
   "metadata": {},
   "outputs": [],
   "source": [
    "df_reddit.to_csv('/Users/jhonatatirloni/Desktop/g05-ia-seguranca-digital/src/data/processed/bronze/df_list_data_reddit_tratado.csv', sep='|')"
   ]
  }
 ],
 "metadata": {
  "kernelspec": {
   "display_name": "Python 3",
   "language": "python",
   "name": "python3"
  },
  "language_info": {
   "codemirror_mode": {
    "name": "ipython",
    "version": 3
   },
   "file_extension": ".py",
   "mimetype": "text/x-python",
   "name": "python",
   "nbconvert_exporter": "python",
   "pygments_lexer": "ipython3",
   "version": "3.13.2"
  }
 },
 "nbformat": 4,
 "nbformat_minor": 5
}
