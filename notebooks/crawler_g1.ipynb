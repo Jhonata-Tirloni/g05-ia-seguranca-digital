{
 "cells": [
  {
   "cell_type": "code",
   "execution_count": null,
   "id": "fd63fa63",
   "metadata": {},
   "outputs": [],
   "source": [
    "import requests\n",
    "from bs4 import BeautifulSoup\n",
    "import time\n",
    "from urllib.parse import urlparse, parse_qs, unquote\n",
    "import pandas as pd\n",
    "\n",
    "url = 'https://g1.globo.com/busca/?q=golpe+digital&order=recent&species=notícias'\n",
    "aux = 1\n",
    "news_link_list = []\n",
    "\n",
    "response = requests.get(url)\n",
    "soup = BeautifulSoup(response.text, 'html.parser')\n",
    "\n",
    "time.sleep(3)\n",
    "results_div = soup.find('ul', class_='results__list')\n",
    "\n",
    "if results_div:\n",
    "    links = [a['href'] for a in results_div.find_all('a', href=True)]\n",
    "    for link in links:\n",
    "        news_link_list.append(link)\n",
    "else:\n",
    "    print(\"Div com a classe 'results__list' não encontrada.\")\n",
    "\n",
    "while aux < 30:\n",
    "    response = requests.get(url+f'&page={aux}')\n",
    "    soup = BeautifulSoup(response.text, 'html.parser')\n",
    "    time.sleep(3)\n",
    "    results_div = soup.find('ul', class_='results__list')\n",
    "\n",
    "    if results_div:\n",
    "        links = [a['href'] for a in results_div.find_all('a', href=True)]\n",
    "        for link in links:\n",
    "            news_link_list.append(link)\n",
    "    else:\n",
    "        print(\"Div com a classe 'results__list' não encontrada.\")\n",
    "    \n",
    "    aux = aux+1"
   ]
  },
  {
   "cell_type": "code",
   "execution_count": null,
   "id": "79ac6f60",
   "metadata": {},
   "outputs": [],
   "source": [
    "url = 'https://www.cnnbrasil.com.br/tudo-sobre/crimes-ciberneticos/'\n",
    "response = requests.get(url)\n",
    "soup = BeautifulSoup(response.text, 'html.parser')\n",
    "aux = 1\n",
    "cnn_news_list = []\n",
    "\n",
    "ul = soup.select_one(\n",
    "    'div.mx-auto.w-full.max-w-\\\\[1352px\\\\].px-4.flex.flex-col.gap-x-5.py-2.lg\\\\:flex-row > '\n",
    "    'div.w-full.lg\\\\:w-9\\\\/12 > div > ul'\n",
    ")\n",
    "\n",
    "if ul:\n",
    "    items = ul.find_all('li')\n",
    "    for i, li in enumerate(items, 1):\n",
    "        a_tag = li.find('a')\n",
    "        if a_tag and a_tag.has_attr('href'):\n",
    "            cnn_news_list.append(a_tag['href'])\n",
    "        else:\n",
    "            print(f\"[{i}] Nenhum link encontrado.\")\n",
    "else:\n",
    "    print(\"Lista <ul> não encontrada.\")\n",
    "\n",
    "while aux < 10:\n",
    "    response = requests.get(url+f'pagina/{aux}/')\n",
    "    soup = BeautifulSoup(response.text, 'html.parser')\n",
    "    ul = soup.select_one(\n",
    "        'div.mx-auto.w-full.max-w-\\\\[1352px\\\\].px-4.flex.flex-col.gap-x-5.py-2.lg\\\\:flex-row > '\n",
    "        'div.w-full.lg\\\\:w-9\\\\/12 > div > ul'\n",
    "    )\n",
    "\n",
    "    if ul:\n",
    "        items = ul.find_all('li')\n",
    "        for i, li in enumerate(items, 1):\n",
    "            a_tag = li.find('a')\n",
    "            if a_tag and a_tag.has_attr('href'):\n",
    "                cnn_news_list.append(a_tag['href'])\n",
    "            else:\n",
    "                print(f\"[{i}] Nenhum link encontrado.\")\n",
    "    else:\n",
    "        print(\"Lista <ul> não encontrada.\")\n",
    "    \n",
    "    aux = aux+1"
   ]
  },
  {
   "cell_type": "code",
   "execution_count": 35,
   "id": "48c5408e",
   "metadata": {},
   "outputs": [],
   "source": [
    "combined_news_list = []\n",
    "\n",
    "for item in news_link_list:\n",
    "    combined_news_list.append('https:'+item)\n",
    "\n",
    "for item in cnn_news_list:\n",
    "    combined_news_list.append(item)"
   ]
  },
  {
   "cell_type": "markdown",
   "id": "58db6611",
   "metadata": {},
   "source": [
    "# Pega os textos das noticias"
   ]
  },
  {
   "cell_type": "markdown",
   "id": "673cf14d",
   "metadata": {},
   "source": [
    "# G1"
   ]
  },
  {
   "cell_type": "code",
   "execution_count": null,
   "id": "87e152a9",
   "metadata": {},
   "outputs": [],
   "source": [
    "url_g1_list = []\n",
    "\n",
    "for link in news_link_list:\n",
    "    parsed_url = urlparse(link)\n",
    "    query_params = parse_qs(parsed_url.query)\n",
    "    link_real = unquote(query_params.get('u', [''])[0])\n",
    "\n",
    "    url_g1_list.append(link_real)"
   ]
  },
  {
   "cell_type": "code",
   "execution_count": null,
   "id": "aab53996",
   "metadata": {},
   "outputs": [],
   "source": [
    "g1_article_texts = []\n",
    "\n",
    "for link in url_g1_list:\n",
    "    url = link  # substitua com a URL real\n",
    "    response = requests.get(url)\n",
    "    soup = BeautifulSoup(response.text, 'html.parser')\n",
    "\n",
    "    article = soup.select_one(\n",
    "        'div.glb-grid > main > div.mc-article-body > article'\n",
    "    )\n",
    "\n",
    "    if article:\n",
    "        g1_article_texts.append(article.text.strip())\n",
    "    else:\n",
    "        print(\"Elemento <article> não encontrado.\")\n"
   ]
  },
  {
   "cell_type": "markdown",
   "id": "a0930109",
   "metadata": {},
   "source": [
    "# CCN"
   ]
  },
  {
   "cell_type": "code",
   "execution_count": null,
   "id": "f93b8aac",
   "metadata": {},
   "outputs": [],
   "source": [
    "ccn_article_text = []\n",
    "\n",
    "for link in cnn_news_list:\n",
    "    response = requests.get(link)\n",
    "    soup = BeautifulSoup(response.text, 'html.parser')\n",
    "\n",
    "    texto_completo = ' '.join(el.get_text(strip=True) for el in soup.select('.break-words'))\n",
    "\n",
    "    ccn_article_text.append(texto_completo)\n"
   ]
  },
  {
   "cell_type": "markdown",
   "id": "23b106c7",
   "metadata": {},
   "source": [
    "# Concatena os textos"
   ]
  },
  {
   "cell_type": "code",
   "execution_count": 64,
   "id": "53630c70",
   "metadata": {},
   "outputs": [],
   "source": [
    "final_text_list = []\n",
    "\n",
    "for item in ccn_article_text:\n",
    "    final_text_list.append(item)\n",
    "\n",
    "for item in g1_article_texts:\n",
    "    final_text_list.append(item)"
   ]
  },
  {
   "cell_type": "code",
   "execution_count": 68,
   "id": "74200ae3",
   "metadata": {},
   "outputs": [],
   "source": [
    "final_text_df = pd.DataFrame(final_text_list, columns=['text'])"
   ]
  },
  {
   "cell_type": "code",
   "execution_count": 70,
   "id": "a4529511",
   "metadata": {},
   "outputs": [],
   "source": [
    "final_text_df.to_csv(r'../src/data/processed/df_text_news.csv',\n",
    "                    sep=';')"
   ]
  }
 ],
 "metadata": {
  "kernelspec": {
   "display_name": "Python 3",
   "language": "python",
   "name": "python3"
  },
  "language_info": {
   "codemirror_mode": {
    "name": "ipython",
    "version": 3
   },
   "file_extension": ".py",
   "mimetype": "text/x-python",
   "name": "python",
   "nbconvert_exporter": "python",
   "pygments_lexer": "ipython3",
   "version": "3.13.2"
  }
 },
 "nbformat": 4,
 "nbformat_minor": 5
}
