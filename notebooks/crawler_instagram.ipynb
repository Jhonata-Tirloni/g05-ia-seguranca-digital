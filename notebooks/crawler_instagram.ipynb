{
 "cells": [
  {
   "cell_type": "code",
   "execution_count": null,
   "id": "b344855d",
   "metadata": {
    "vscode": {
     "languageId": "plaintext"
    }
   },
   "outputs": [],
   "source": [
    "from selenium import webdriver\n",
    "from selenium.webdriver.chrome.options import Options\n",
    "from selenium.webdriver.common.by import By\n",
    "from selenium.webdriver.support.ui import WebDriverWait\n",
    "from selenium.webdriver.support import expected_conditions as EC\n",
    "import time\n",
    "\n",
    "# Instagram, via Selenium\n",
    "driver = webdriver.Chrome()\n",
    "\n",
    "url = 'https://www.instagram.com/p/DJY7p1YOZ0L/'\n",
    "driver.get(url)\n",
    "\n",
    "time.sleep(4)\n",
    "# Fecha o modal, se aberto\n",
    "try:\n",
    "    driver.execute_script(\"\"\"document.querySelector(\"svg[aria-label='Close']\").parentElement.click()\"\"\")\n",
    "except Exception:\n",
    "    pass\n",
    "\n",
    "# Tenta garantir que o modal foi fechado\n",
    "try:\n",
    "    time.sleep(3)\n",
    "    WebDriverWait(driver, 3).until(\n",
    "        EC.invisibility_of_element_located((By.CSS_SELECTOR, \"svg[aria-label='Close']\"))\n",
    "    )\n",
    "    print('Modal fechado ou não apareceu.')\n",
    "except Exception as e:\n",
    "    print('Modal já fechado ou não encontrado:', e)\n",
    "\n",
    "time.sleep(3)\n",
    "\n",
    "try:\n",
    "    lista = driver.execute_script(\"\"\"\n",
    "        return Array.from(document.querySelectorAll('[dir=\"auto\"]'))\n",
    "            .map(el => el.textContent.trim());\n",
    "    \"\"\")\n",
    "\n",
    "except Exception as e:\n",
    "    print(\"Erro ao carregar comentários:\", e)\n",
    "\n",
    "finally:\n",
    "    driver.quit()\n"
   ]
  },
  {
   "cell_type": "code",
   "execution_count": null,
   "id": "e1184f34",
   "metadata": {
    "vscode": {
     "languageId": "plaintext"
    }
   },
   "outputs": [],
   "source": [
    "# Tratamento dos retornos do Instagram\n",
    "posts = []\n",
    "i = 0\n",
    "while i < len(lista)-3:\n",
    "    if lista[i] == lista[i+1]:\n",
    "        author = lista[i]\n",
    "        time = lista[i+2]\n",
    "        text = lista[i+3]\n",
    "        \n",
    "        if (time.endswith('w') or time.endswith('d') or time == '1w' or time == '2w' or time == '6d' or time == '4d') and isinstance(text, str):\n",
    "            posts.append({'author': author, 'time': time, 'text': text})\n",
    "            i += 4\n",
    "        else:\n",
    "            i += 1\n",
    "    else:\n",
    "        i += 1\n",
    "\n",
    "df = pd.DataFrame(posts)\n",
    "\n",
    "print(df.head())"
   ]
  }
 ],
 "metadata": {
  "language_info": {
   "name": "python"
  }
 },
 "nbformat": 4,
 "nbformat_minor": 5
}
